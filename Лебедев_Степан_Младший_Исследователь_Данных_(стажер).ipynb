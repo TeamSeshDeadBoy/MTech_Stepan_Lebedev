{
 "cells": [
  {
   "cell_type": "markdown",
   "metadata": {},
   "source": [
    "Тестовое задание на вакансию: Младший Исследователь данных  (DS) / стажер\n",
    "==\n",
    "***"
   ]
  },
  {
   "cell_type": "markdown",
   "metadata": {},
   "source": [
    "### Подготовка библиботек\n"
   ]
  },
  {
   "cell_type": "code",
   "execution_count": 31,
   "metadata": {},
   "outputs": [],
   "source": [
    "### ИМПОРТ БИБЛИОТЕК:\n",
    "import numpy as np\n",
    "import matplotlib.pyplot as plt \n",
    "import pandas as pd \n",
    "import scipy.stats as stats \n",
    "import seaborn as sns\n",
    "\n",
    "### Matplotlib Inline \"magic\"\n",
    "%matplotlib inline"
   ]
  },
  {
   "cell_type": "code",
   "execution_count": 32,
   "metadata": {},
   "outputs": [],
   "source": [
    "### Убираем ошибки sns о deprecated функции \"distplot\"\n",
    "import warnings\n",
    "warnings.filterwarnings('ignore')"
   ]
  },
  {
   "cell_type": "markdown",
   "metadata": {},
   "source": [
    "## Работа с данными:   \n",
    "***"
   ]
  },
  {
   "cell_type": "markdown",
   "metadata": {},
   "source": [
    "## Импорт данных"
   ]
  },
  {
   "cell_type": "code",
   "execution_count": 33,
   "metadata": {},
   "outputs": [],
   "source": [
    "### ИМПОРТ ДАНННЫХ:\n",
    "data_path = \"./data/М.Тех_Данные_к_ТЗ_DS.csv\"\n",
    "\n",
    "#Кодировка 'cp1251' позволяет отображать Кириллицу (в dataset'е используется кириллица)\n",
    "df = pd.read_csv(data_path, encoding='cp1251', sep=',', quoting=3)"
   ]
  },
  {
   "cell_type": "code",
   "execution_count": 34,
   "metadata": {},
   "outputs": [
    {
     "data": {
      "text/html": [
       "<div>\n",
       "<style scoped>\n",
       "    .dataframe tbody tr th:only-of-type {\n",
       "        vertical-align: middle;\n",
       "    }\n",
       "\n",
       "    .dataframe tbody tr th {\n",
       "        vertical-align: top;\n",
       "    }\n",
       "\n",
       "    .dataframe thead th {\n",
       "        text-align: right;\n",
       "    }\n",
       "</style>\n",
       "<table border=\"1\" class=\"dataframe\">\n",
       "  <thead>\n",
       "    <tr style=\"text-align: right;\">\n",
       "      <th></th>\n",
       "      <th>\"Количество больничных дней</th>\n",
       "      <th>\"\"Возраст\"\"</th>\n",
       "      <th>\"\"Пол\"\"\"</th>\n",
       "    </tr>\n",
       "  </thead>\n",
       "  <tbody>\n",
       "    <tr>\n",
       "      <th>0</th>\n",
       "      <td>\"5</td>\n",
       "      <td>39</td>\n",
       "      <td>\"\"Ж\"\"\"</td>\n",
       "    </tr>\n",
       "    <tr>\n",
       "      <th>1</th>\n",
       "      <td>\"4</td>\n",
       "      <td>54</td>\n",
       "      <td>\"\"М\"\"\"</td>\n",
       "    </tr>\n",
       "    <tr>\n",
       "      <th>2</th>\n",
       "      <td>\"4</td>\n",
       "      <td>26</td>\n",
       "      <td>\"\"М\"\"\"</td>\n",
       "    </tr>\n",
       "    <tr>\n",
       "      <th>3</th>\n",
       "      <td>\"5</td>\n",
       "      <td>42</td>\n",
       "      <td>\"\"М\"\"\"</td>\n",
       "    </tr>\n",
       "    <tr>\n",
       "      <th>4</th>\n",
       "      <td>\"4</td>\n",
       "      <td>29</td>\n",
       "      <td>\"\"М\"\"\"</td>\n",
       "    </tr>\n",
       "  </tbody>\n",
       "</table>\n",
       "</div>"
      ],
      "text/plain": [
       "  \"Количество больничных дней  \"\"Возраст\"\" \"\"Пол\"\"\"\n",
       "0                          \"5           39   \"\"Ж\"\"\"\n",
       "1                          \"4           54   \"\"М\"\"\"\n",
       "2                          \"4           26   \"\"М\"\"\"\n",
       "3                          \"5           42   \"\"М\"\"\"\n",
       "4                          \"4           29   \"\"М\"\"\""
      ]
     },
     "execution_count": 34,
     "metadata": {},
     "output_type": "execute_result"
    }
   ],
   "source": [
    "df.head()"
   ]
  },
  {
   "cell_type": "markdown",
   "metadata": {},
   "source": [
    "## Обработка данных и исправление ошибок"
   ]
  },
  {
   "cell_type": "code",
   "execution_count": 35,
   "metadata": {},
   "outputs": [
    {
     "data": {
      "text/html": [
       "<div>\n",
       "<style scoped>\n",
       "    .dataframe tbody tr th:only-of-type {\n",
       "        vertical-align: middle;\n",
       "    }\n",
       "\n",
       "    .dataframe tbody tr th {\n",
       "        vertical-align: top;\n",
       "    }\n",
       "\n",
       "    .dataframe thead th {\n",
       "        text-align: right;\n",
       "    }\n",
       "</style>\n",
       "<table border=\"1\" class=\"dataframe\">\n",
       "  <thead>\n",
       "    <tr style=\"text-align: right;\">\n",
       "      <th></th>\n",
       "      <th>Количество больничных дней</th>\n",
       "      <th>Возраст</th>\n",
       "      <th>Пол</th>\n",
       "    </tr>\n",
       "  </thead>\n",
       "  <tbody>\n",
       "    <tr>\n",
       "      <th>0</th>\n",
       "      <td>5</td>\n",
       "      <td>39</td>\n",
       "      <td>Ж</td>\n",
       "    </tr>\n",
       "  </tbody>\n",
       "</table>\n",
       "</div>"
      ],
      "text/plain": [
       "  Количество больничных дней  Возраст Пол\n",
       "0                          5       39   Ж"
      ]
     },
     "execution_count": 35,
     "metadata": {},
     "output_type": "execute_result"
    }
   ],
   "source": [
    "### Исправляем ошибки, связанные с кол-вом кавычек в файле при смене кодировки\n",
    "\n",
    "## Убираем кавычки из названий\n",
    "row_names = {'\"Количество больничных дней':'Количество больничных дней',\n",
    "             '\"\"Возраст\"\"':'Возраст',\n",
    "             '\"\"Пол\"\"\"':'Пол'}\n",
    "df.rename(columns = row_names, inplace = True)\n",
    "\n",
    "## Убираем кавычки из значений\n",
    "df[\"Пол\"].replace(r'(\\\")', r\"\", regex=True, inplace=True)\n",
    "df[\"Количество больничных дней\"].replace(r'(\\\")', r\"\", regex=True, inplace=True)\n",
    "df.head(1)\n"
   ]
  },
  {
   "cell_type": "code",
   "execution_count": 36,
   "metadata": {},
   "outputs": [
    {
     "name": "stdout",
     "output_type": "stream",
     "text": [
      "Кол-во обьектов  :  237\n",
      "Кол-во признаков :  3\n",
      "\n",
      "Признаки : \n",
      " ['Количество больничных дней', 'Возраст', 'Пол']\n",
      "\n",
      "Пропущенные значения :   0\n",
      "\n",
      "      Уникальные значения :  \n",
      " Количество больничных дней     9\n",
      "Возраст                       35\n",
      "Пол                            2\n",
      "dtype: int64\n",
      "\n",
      "Уникальные значения категориальной переменной Пол: ['Ж' 'М']\n",
      "\n",
      "       Типизация колонок :  \n",
      " Количество больничных дней    object\n",
      "Возраст                        int64\n",
      "Пол                           object\n",
      "dtype: object\n"
     ]
    }
   ],
   "source": [
    "### Выводим общую информацию о dataset'е:\n",
    "print (\"Кол-во обьектов  : \" , df.shape[0])\n",
    "print (\"Кол-во признаков : \" , df.shape[1])\n",
    "print (\"\\nПризнаки : \\n\", df.columns.tolist())\n",
    "print (\"\\nПропущенные значения :  \", df.isnull().sum().values.sum())\n",
    "print (\"\\n      Уникальные значения :  \\n\", df.nunique())\n",
    "print (\"\\nУникальные значения категориальной переменной Пол:\", df[\"Пол\"].unique())\n",
    "print(\"\\n       Типизация колонок :  \\n\", df.dtypes)"
   ]
  },
  {
   "cell_type": "code",
   "execution_count": 37,
   "metadata": {},
   "outputs": [
    {
     "data": {
      "text/plain": [
       "Количество больничных дней     int64\n",
       "Возраст                        int64\n",
       "Пол                           object\n",
       "dtype: object"
      ]
     },
     "execution_count": 37,
     "metadata": {},
     "output_type": "execute_result"
    }
   ],
   "source": [
    "### Выставляем корректную типизацию у колонки \"Количество больничных дней\" dataframe'а:\n",
    "df[\"Количество больничных дней\"] = df[\"Количество больничных дней\"].astype(\"int64\")\n",
    "df.dtypes"
   ]
  },
  {
   "cell_type": "code",
   "execution_count": 38,
   "metadata": {},
   "outputs": [],
   "source": [
    "### Приводим все целочисленные признаки в целые числа:\n",
    "df[\"Количество больничных дней\"] = pd.to_numeric(df[\"Количество больничных дней\"], errors='coerce')\n",
    "df[\"Возраст\"] = pd.to_numeric(df[\"Возраст\"], errors='coerce')"
   ]
  },
  {
   "cell_type": "markdown",
   "metadata": {},
   "source": [
    "Мы удостоверились, что в нашем датасете:\n",
    "+ Нет пропущенных значений\n",
    "+ Корректная типипзация (Категориальные: ***Пол***, Целочисленные: ***Возраст***, ***Количество больничных дней***)\n",
    "+ В колонке пол представленно только два уникальных значения (М, Ж)\n",
    "+ Правильно отображены данныe при кодировке \"cp1251\" - кириллица\n",
    "+ Тип признака соотвествует типу его значений"
   ]
  },
  {
   "cell_type": "code",
   "execution_count": 39,
   "metadata": {},
   "outputs": [
    {
     "data": {
      "text/html": [
       "<div>\n",
       "<style scoped>\n",
       "    .dataframe tbody tr th:only-of-type {\n",
       "        vertical-align: middle;\n",
       "    }\n",
       "\n",
       "    .dataframe tbody tr th {\n",
       "        vertical-align: top;\n",
       "    }\n",
       "\n",
       "    .dataframe thead th {\n",
       "        text-align: right;\n",
       "    }\n",
       "</style>\n",
       "<table border=\"1\" class=\"dataframe\">\n",
       "  <thead>\n",
       "    <tr style=\"text-align: right;\">\n",
       "      <th></th>\n",
       "      <th>Количество больничных дней</th>\n",
       "      <th>Возраст</th>\n",
       "      <th>Пол</th>\n",
       "    </tr>\n",
       "  </thead>\n",
       "  <tbody>\n",
       "    <tr>\n",
       "      <th>0</th>\n",
       "      <td>5</td>\n",
       "      <td>39</td>\n",
       "      <td>Ж</td>\n",
       "    </tr>\n",
       "    <tr>\n",
       "      <th>1</th>\n",
       "      <td>4</td>\n",
       "      <td>54</td>\n",
       "      <td>М</td>\n",
       "    </tr>\n",
       "    <tr>\n",
       "      <th>2</th>\n",
       "      <td>4</td>\n",
       "      <td>26</td>\n",
       "      <td>М</td>\n",
       "    </tr>\n",
       "    <tr>\n",
       "      <th>3</th>\n",
       "      <td>5</td>\n",
       "      <td>42</td>\n",
       "      <td>М</td>\n",
       "    </tr>\n",
       "    <tr>\n",
       "      <th>4</th>\n",
       "      <td>4</td>\n",
       "      <td>29</td>\n",
       "      <td>М</td>\n",
       "    </tr>\n",
       "  </tbody>\n",
       "</table>\n",
       "</div>"
      ],
      "text/plain": [
       "   Количество больничных дней  Возраст Пол\n",
       "0                           5       39   Ж\n",
       "1                           4       54   М\n",
       "2                           4       26   М\n",
       "3                           5       42   М\n",
       "4                           4       29   М"
      ]
     },
     "execution_count": 39,
     "metadata": {},
     "output_type": "execute_result"
    }
   ],
   "source": [
    "### Dataframe:\n",
    "df.head()"
   ]
  },
  {
   "cell_type": "markdown",
   "metadata": {},
   "source": [
    "## Изучение данных   \n",
    "***"
   ]
  },
  {
   "cell_type": "markdown",
   "metadata": {},
   "source": [
    "### Целочисленные признаки:"
   ]
  },
  {
   "cell_type": "code",
   "execution_count": 40,
   "metadata": {},
   "outputs": [
    {
     "data": {
      "text/html": [
       "<div>\n",
       "<style scoped>\n",
       "    .dataframe tbody tr th:only-of-type {\n",
       "        vertical-align: middle;\n",
       "    }\n",
       "\n",
       "    .dataframe tbody tr th {\n",
       "        vertical-align: top;\n",
       "    }\n",
       "\n",
       "    .dataframe thead th {\n",
       "        text-align: right;\n",
       "    }\n",
       "</style>\n",
       "<table border=\"1\" class=\"dataframe\">\n",
       "  <thead>\n",
       "    <tr style=\"text-align: right;\">\n",
       "      <th></th>\n",
       "      <th>Количество больничных дней</th>\n",
       "      <th>Возраст</th>\n",
       "    </tr>\n",
       "  </thead>\n",
       "  <tbody>\n",
       "    <tr>\n",
       "      <th>count</th>\n",
       "      <td>237.000000</td>\n",
       "      <td>237.000000</td>\n",
       "    </tr>\n",
       "    <tr>\n",
       "      <th>mean</th>\n",
       "      <td>3.257384</td>\n",
       "      <td>40.181435</td>\n",
       "    </tr>\n",
       "    <tr>\n",
       "      <th>std</th>\n",
       "      <td>1.807821</td>\n",
       "      <td>6.875157</td>\n",
       "    </tr>\n",
       "    <tr>\n",
       "      <th>min</th>\n",
       "      <td>0.000000</td>\n",
       "      <td>23.000000</td>\n",
       "    </tr>\n",
       "    <tr>\n",
       "      <th>25%</th>\n",
       "      <td>2.000000</td>\n",
       "      <td>36.000000</td>\n",
       "    </tr>\n",
       "    <tr>\n",
       "      <th>50%</th>\n",
       "      <td>3.000000</td>\n",
       "      <td>41.000000</td>\n",
       "    </tr>\n",
       "    <tr>\n",
       "      <th>75%</th>\n",
       "      <td>4.000000</td>\n",
       "      <td>45.000000</td>\n",
       "    </tr>\n",
       "    <tr>\n",
       "      <th>max</th>\n",
       "      <td>8.000000</td>\n",
       "      <td>60.000000</td>\n",
       "    </tr>\n",
       "  </tbody>\n",
       "</table>\n",
       "</div>"
      ],
      "text/plain": [
       "       Количество больничных дней     Возраст\n",
       "count                  237.000000  237.000000\n",
       "mean                     3.257384   40.181435\n",
       "std                      1.807821    6.875157\n",
       "min                      0.000000   23.000000\n",
       "25%                      2.000000   36.000000\n",
       "50%                      3.000000   41.000000\n",
       "75%                      4.000000   45.000000\n",
       "max                      8.000000   60.000000"
      ]
     },
     "execution_count": 40,
     "metadata": {},
     "output_type": "execute_result"
    }
   ],
   "source": [
    "df.describe()"
   ]
  },
  {
   "cell_type": "markdown",
   "metadata": {},
   "source": [
    "Наблюдения:\n",
    "+ Средний возраст работника в выборке - 40 лет\n",
    "+ Диапазон возрастов: 23-60 лет\n",
    "+ В среднем работник получает 3 больничных для в год\n",
    "+ Медианное значение возраста (41 г.) отличается от среднего (40 лет) - в распределении возрастов есть небольшое смещение вправо"
   ]
  },
  {
   "cell_type": "markdown",
   "metadata": {},
   "source": [
    "### Категориальные признаки:"
   ]
  },
  {
   "cell_type": "code",
   "execution_count": 41,
   "metadata": {},
   "outputs": [
    {
     "data": {
      "text/html": [
       "<div>\n",
       "<style scoped>\n",
       "    .dataframe tbody tr th:only-of-type {\n",
       "        vertical-align: middle;\n",
       "    }\n",
       "\n",
       "    .dataframe tbody tr th {\n",
       "        vertical-align: top;\n",
       "    }\n",
       "\n",
       "    .dataframe thead th {\n",
       "        text-align: right;\n",
       "    }\n",
       "</style>\n",
       "<table border=\"1\" class=\"dataframe\">\n",
       "  <thead>\n",
       "    <tr style=\"text-align: right;\">\n",
       "      <th></th>\n",
       "      <th>Пол</th>\n",
       "    </tr>\n",
       "  </thead>\n",
       "  <tbody>\n",
       "    <tr>\n",
       "      <th>count</th>\n",
       "      <td>237</td>\n",
       "    </tr>\n",
       "    <tr>\n",
       "      <th>unique</th>\n",
       "      <td>2</td>\n",
       "    </tr>\n",
       "    <tr>\n",
       "      <th>top</th>\n",
       "      <td>М</td>\n",
       "    </tr>\n",
       "    <tr>\n",
       "      <th>freq</th>\n",
       "      <td>139</td>\n",
       "    </tr>\n",
       "  </tbody>\n",
       "</table>\n",
       "</div>"
      ],
      "text/plain": [
       "        Пол\n",
       "count   237\n",
       "unique    2\n",
       "top       М\n",
       "freq    139"
      ]
     },
     "execution_count": 41,
     "metadata": {},
     "output_type": "execute_result"
    }
   ],
   "source": [
    "df.describe(include='object')"
   ]
  },
  {
   "cell_type": "code",
   "execution_count": 42,
   "metadata": {},
   "outputs": [
    {
     "data": {
      "text/plain": [
       "М    139\n",
       "Ж     98\n",
       "Name: Пол, dtype: int64"
      ]
     },
     "execution_count": 42,
     "metadata": {},
     "output_type": "execute_result"
    }
   ],
   "source": [
    "df[\"Пол\"].value_counts()"
   ]
  },
  {
   "cell_type": "markdown",
   "metadata": {},
   "source": [
    "Наблюдения:\n",
    "+ Мужчин в выборке больше, чем женщин"
   ]
  },
  {
   "cell_type": "markdown",
   "metadata": {},
   "source": [
    "### Целочисленные признаки (отдельно для каждого пола):"
   ]
  },
  {
   "cell_type": "code",
   "execution_count": 43,
   "metadata": {},
   "outputs": [
    {
     "data": {
      "text/html": [
       "<div>\n",
       "<style scoped>\n",
       "    .dataframe tbody tr th:only-of-type {\n",
       "        vertical-align: middle;\n",
       "    }\n",
       "\n",
       "    .dataframe tbody tr th {\n",
       "        vertical-align: top;\n",
       "    }\n",
       "\n",
       "    .dataframe thead th {\n",
       "        text-align: right;\n",
       "    }\n",
       "</style>\n",
       "<table border=\"1\" class=\"dataframe\">\n",
       "  <thead>\n",
       "    <tr style=\"text-align: right;\">\n",
       "      <th></th>\n",
       "      <th>Количество больничных дней</th>\n",
       "      <th>Возраст</th>\n",
       "    </tr>\n",
       "  </thead>\n",
       "  <tbody>\n",
       "    <tr>\n",
       "      <th>count</th>\n",
       "      <td>139.000000</td>\n",
       "      <td>139.000000</td>\n",
       "    </tr>\n",
       "    <tr>\n",
       "      <th>mean</th>\n",
       "      <td>3.179856</td>\n",
       "      <td>39.899281</td>\n",
       "    </tr>\n",
       "    <tr>\n",
       "      <th>std</th>\n",
       "      <td>1.889144</td>\n",
       "      <td>6.797586</td>\n",
       "    </tr>\n",
       "    <tr>\n",
       "      <th>min</th>\n",
       "      <td>0.000000</td>\n",
       "      <td>23.000000</td>\n",
       "    </tr>\n",
       "    <tr>\n",
       "      <th>25%</th>\n",
       "      <td>2.000000</td>\n",
       "      <td>35.000000</td>\n",
       "    </tr>\n",
       "    <tr>\n",
       "      <th>50%</th>\n",
       "      <td>3.000000</td>\n",
       "      <td>41.000000</td>\n",
       "    </tr>\n",
       "    <tr>\n",
       "      <th>75%</th>\n",
       "      <td>4.000000</td>\n",
       "      <td>44.000000</td>\n",
       "    </tr>\n",
       "    <tr>\n",
       "      <th>max</th>\n",
       "      <td>8.000000</td>\n",
       "      <td>57.000000</td>\n",
       "    </tr>\n",
       "  </tbody>\n",
       "</table>\n",
       "</div>"
      ],
      "text/plain": [
       "       Количество больничных дней     Возраст\n",
       "count                  139.000000  139.000000\n",
       "mean                     3.179856   39.899281\n",
       "std                      1.889144    6.797586\n",
       "min                      0.000000   23.000000\n",
       "25%                      2.000000   35.000000\n",
       "50%                      3.000000   41.000000\n",
       "75%                      4.000000   44.000000\n",
       "max                      8.000000   57.000000"
      ]
     },
     "execution_count": 43,
     "metadata": {},
     "output_type": "execute_result"
    }
   ],
   "source": [
    "df[df[\"Пол\"] == \"М\"].describe()"
   ]
  },
  {
   "cell_type": "code",
   "execution_count": 44,
   "metadata": {},
   "outputs": [
    {
     "data": {
      "text/html": [
       "<div>\n",
       "<style scoped>\n",
       "    .dataframe tbody tr th:only-of-type {\n",
       "        vertical-align: middle;\n",
       "    }\n",
       "\n",
       "    .dataframe tbody tr th {\n",
       "        vertical-align: top;\n",
       "    }\n",
       "\n",
       "    .dataframe thead th {\n",
       "        text-align: right;\n",
       "    }\n",
       "</style>\n",
       "<table border=\"1\" class=\"dataframe\">\n",
       "  <thead>\n",
       "    <tr style=\"text-align: right;\">\n",
       "      <th></th>\n",
       "      <th>Количество больничных дней</th>\n",
       "      <th>Возраст</th>\n",
       "    </tr>\n",
       "  </thead>\n",
       "  <tbody>\n",
       "    <tr>\n",
       "      <th>count</th>\n",
       "      <td>98.000000</td>\n",
       "      <td>98.000000</td>\n",
       "    </tr>\n",
       "    <tr>\n",
       "      <th>mean</th>\n",
       "      <td>3.367347</td>\n",
       "      <td>40.581633</td>\n",
       "    </tr>\n",
       "    <tr>\n",
       "      <th>std</th>\n",
       "      <td>1.689188</td>\n",
       "      <td>6.999151</td>\n",
       "    </tr>\n",
       "    <tr>\n",
       "      <th>min</th>\n",
       "      <td>0.000000</td>\n",
       "      <td>23.000000</td>\n",
       "    </tr>\n",
       "    <tr>\n",
       "      <th>25%</th>\n",
       "      <td>2.000000</td>\n",
       "      <td>36.000000</td>\n",
       "    </tr>\n",
       "    <tr>\n",
       "      <th>50%</th>\n",
       "      <td>3.000000</td>\n",
       "      <td>41.000000</td>\n",
       "    </tr>\n",
       "    <tr>\n",
       "      <th>75%</th>\n",
       "      <td>4.000000</td>\n",
       "      <td>45.000000</td>\n",
       "    </tr>\n",
       "    <tr>\n",
       "      <th>max</th>\n",
       "      <td>8.000000</td>\n",
       "      <td>60.000000</td>\n",
       "    </tr>\n",
       "  </tbody>\n",
       "</table>\n",
       "</div>"
      ],
      "text/plain": [
       "       Количество больничных дней    Возраст\n",
       "count                   98.000000  98.000000\n",
       "mean                     3.367347  40.581633\n",
       "std                      1.689188   6.999151\n",
       "min                      0.000000  23.000000\n",
       "25%                      2.000000  36.000000\n",
       "50%                      3.000000  41.000000\n",
       "75%                      4.000000  45.000000\n",
       "max                      8.000000  60.000000"
      ]
     },
     "execution_count": 44,
     "metadata": {},
     "output_type": "execute_result"
    }
   ],
   "source": [
    "df[df[\"Пол\"] == \"Ж\"].describe()"
   ]
  },
  {
   "cell_type": "markdown",
   "metadata": {},
   "source": [
    "Наблюдения:\n",
    "+ Средний возраст Мужчин чуть меньше чем у Женщин, медианное значение неизменно.\n",
    "+ Стандартное отклонение в распределении кол-ва больничных дней у мужчин чуть больше, чем у женщин\n",
    "+ В среднем Мужчины пропускают по болезни чуть больше дней, чем женщины (Разница в средних значениях распределений)"
   ]
  },
  {
   "cell_type": "markdown",
   "metadata": {},
   "source": [
    "## Визуализация данных:   \n",
    "***"
   ]
  },
  {
   "cell_type": "code",
   "execution_count": 45,
   "metadata": {},
   "outputs": [
    {
     "name": "stdout",
     "output_type": "stream",
     "text": [
      "Датафрейм с данными о Мужчинах:  (139, 2)\n",
      "Датафрейм с данными о Женщинах:  (98, 2)\n"
     ]
    }
   ],
   "source": [
    "### Разделяем данные на две подгруппы по признаку \"Пол\"\n",
    "df_male = df[df[\"Пол\"] == \"М\"].copy()\n",
    "df_female = df[df[\"Пол\"] == \"Ж\"].copy()\n",
    "\n",
    "df_male.drop([\"Пол\"], axis=\"columns\", inplace=True)\n",
    "df_female.drop([\"Пол\"], axis=\"columns\", inplace=True)\n",
    "\n",
    "print(\"Датафрейм с данными о Мужчинах: \", df_male.shape)\n",
    "print(\"Датафрейм с данными о Женщинах: \", df_female.shape)"
   ]
  },
  {
   "cell_type": "markdown",
   "metadata": {},
   "source": [
    "### Визуализируем распределение возрастов в зависимости от пола сотрудника:"
   ]
  },
  {
   "cell_type": "code",
   "execution_count": 85,
   "metadata": {},
   "outputs": [
    {
     "data": {
      "image/png": "[encoded data removed]",
      "text/plain": [
       "<Figure size 640x480 with 1 Axes>"
      ]
     },
     "metadata": {},
     "output_type": "display_data"
    }
   ],
   "source": [
    "ax = df[[\"Возраст\", \"Пол\"]].boxplot(by=\"Пол\", showfliers=False)\n",
    "ax.set_xlabel(\"Распределение возраста в зависимости от пола\")\n",
    "ax.set_ylabel(\"Возраст\")\n",
    "ax.set_title(\"\")\n",
    "ax.set_xticklabels([\"М\", \"Ж\"])\n",
    "plt.show()"
   ]
  },
  {
   "cell_type": "markdown",
   "metadata": {},
   "source": [
    "Та же гистограмма"
   ]
  },
  {
   "cell_type": "code",
   "execution_count": 71,
   "metadata": {},
   "outputs": [
    {
     "data": {
      "image/png": "[encoded data removed]",
      "text/plain": [
       "<Figure size 640x480 with 1 Axes>"
      ]
     },
     "metadata": {},
     "output_type": "display_data"
    }
   ],
   "source": [
    "df[\"Возраст\"].groupby(df[\"Пол\"]).hist(bins=15, alpha=0.4)\n",
    "plt.legend([\"Ж\", \"M\"])\n",
    "plt.show()"
   ]
  },
  {
   "cell_type": "markdown",
   "metadata": {},
   "source": [
    "Наблюдения:\n",
    "+ Максимальный возраст у женщин - больше\n",
    "+ Средние значения распределений смещены, у мужчин - больше"
   ]
  },
  {
   "cell_type": "markdown",
   "metadata": {},
   "source": [
    "### Визуализируем распределение кол-ва больничных дней:"
   ]
  },
  {
   "cell_type": "code",
   "execution_count": 60,
   "metadata": {},
   "outputs": [
    {
     "data": {
      "image/png": "[encoded data removed]",
      "text/plain": [
       "<Figure size 640x480 with 1 Axes>"
      ]
     },
     "metadata": {},
     "output_type": "display_data"
    }
   ],
   "source": [
    "sns.distplot(df['Количество больничных дней'], color=\"r\", kde=False)\n",
    "plt.title(\"Распределение больничных дней\")\n",
    "plt.ylabel(\"Частота\")\n",
    "plt.xlabel(\"Кол-во больничных дней\");"
   ]
  },
  {
   "cell_type": "markdown",
   "metadata": {},
   "source": [
    "Наблюдения:\n",
    "+ Распределение кол-ва больничных дней близко к нормальному\n",
    "+ Распределение кол-ва больничных дней слегка смещено влево"
   ]
  },
  {
   "cell_type": "markdown",
   "metadata": {},
   "source": [
    "### Визуализируем распределение Возрастов относительно пола сотрудника:"
   ]
  },
  {
   "cell_type": "code",
   "execution_count": 64,
   "metadata": {},
   "outputs": [
    {
     "data": {
      "image/png": "[encoded data removed]",
      "text/plain": [
       "<Figure size 600x600 with 3 Axes>"
      ]
     },
     "metadata": {},
     "output_type": "display_data"
    }
   ],
   "source": [
    "sns.jointplot(data=df, x='Возраст',y='Пол',color='red');"
   ]
  },
  {
   "cell_type": "markdown",
   "metadata": {},
   "source": [
    "Наблюдения:\n",
    "+ Мужчин чуть больше, чем женщин\n",
    "+ Распределение возрастов - близко к нормальному\n",
    "+ Центры распределений возрастов разнятся у мужчин и женщин"
   ]
  },
  {
   "cell_type": "markdown",
   "metadata": {},
   "source": [
    "## Статистическая проверка гипотез (1 задание):   \n",
    "***"
   ]
  },
  {
   "cell_type": "markdown",
   "metadata": {},
   "source": [
    "### Формулировка гипотез:   \n",
    "1. Null Hypothesis $H_0$ - Мужчины пропускают в течение года более 2 рабочих дней по болезни **реже, сопоставимо или незначительно чаще** женщин.\n",
    "2. Alternate Hypothesis $H_a$ - Мужчины пропускают в течение года более 2 рабочих дней по болезни значительно **чаще** женщин.   \n",
    "### Формальная формулировка гипотез:\n",
    "1. $H_0: \\mu_1 <= \\mu_2$   \n",
    "1. $H_a: \\mu_1 > \\mu_2$,    \n",
    "Где: $\\mu_1$ - математическое ожидание мужской выборки, $\\mu_2$ - математическое ожидание женской выборки\n",
    "### Определение уровня значимости:   \n",
    "Определим \"стандартный\" уровень значимости, равный 5%   \n",
    "$\\alpha$ = 0.05   "
   ]
  },
  {
   "cell_type": "markdown",
   "metadata": {},
   "source": [
    "### Отделяем выборку по критерию *(Более 2х рабочих дней пропущено)*:"
   ]
  },
  {
   "cell_type": "code",
   "execution_count": 49,
   "metadata": {},
   "outputs": [
    {
     "name": "stdout",
     "output_type": "stream",
     "text": [
      "Размерность выборки мужчин:  84\n",
      "Размерность выборки женщин:  67\n"
     ]
    }
   ],
   "source": [
    "### Убираем тех, кто пропустим 2 или меньше дней по болезни, разделяем по признаку \"Пол\"\n",
    "df_more_than_two_days_absent = df[df[\"Количество больничных дней\"] > 2]\n",
    "df_male_absent = df_more_than_two_days_absent[df_more_than_two_days_absent[\"Пол\"] == \"М\"][\"Количество больничных дней\"]\n",
    "df_female_absent = df_more_than_two_days_absent[df_more_than_two_days_absent[\"Пол\"] == \"Ж\"][\"Количество больничных дней\"]\n",
    "\n",
    "df_male_absent.rename(\"Мужчины\", inplace=True)\n",
    "df_female_absent.rename(\"Женщины\", inplace=True)\n",
    "print(\"Размерность выборки мужчин: \", df_male_absent.shape[0])\n",
    "print(\"Размерность выборки женщин: \", df_female_absent.shape[0])"
   ]
  },
  {
   "cell_type": "markdown",
   "metadata": {},
   "source": [
    "### Строим гистограмму плотности распределений выборок"
   ]
  },
  {
   "cell_type": "code",
   "execution_count": 50,
   "metadata": {},
   "outputs": [],
   "source": [
    "def two_histograms(x, y):\n",
    "    \"\"\"\n",
    "    Функция, строящая две гистограммы плотности по двум выборкам.\n",
    "    Пунктирные линии - средние значения выборок.\n",
    "    :param x: выборка pd.Series\n",
    "    :param y: выборка pd.Series\n",
    "    \"\"\"\n",
    "    x.hist(alpha=0.5, weights=[1./len(x)]*len(x), bins = np.arange(3, 9))\n",
    "    y.hist(alpha=0.5, weights=[1./len(y)]*len(y), bins = np.arange(3, 9))\n",
    "    plt.axvline(x.mean(), color='red', alpha=0.8, linestyle=\"dashed\")\n",
    "    plt.axvline(y.mean(), color='blue', alpha=0.8, linestyle=\"dashed\")\n",
    "    plt.legend([x.name, y.name])\n",
    "    \n",
    "\n",
    "def evaluate_p_value(p_value, alpha=0.05) :\n",
    "    \"\"\"\n",
    "    Функция, сравнивающая поданное p_value статистического теста с заданным уровнем значимости\n",
    "    :param p_value: float - значение p\n",
    "    :param alpha: float - уровень значимости, по умолочанию - 0.05\n",
    "    \"\"\"\n",
    "    print(\"p-value: \", p_value)\n",
    "    if p_value > alpha:\n",
    "        print(\"p-значение больше 0.05, значит у нас нет оснований отвергать нулевую гипотезу\")\n",
    "    else:\n",
    "        print(\"p-значение меньше или равно 0.05, значит мы имеем право отвергнуть нулевую гипотезу и принять альтернативную\")"
   ]
  },
  {
   "cell_type": "code",
   "execution_count": 51,
   "metadata": {},
   "outputs": [
    {
     "data": {
      "image/png": "[encoded data removed]",
      "text/plain": [
       "<Figure size 640x480 with 1 Axes>"
      ]
     },
     "metadata": {},
     "output_type": "display_data"
    }
   ],
   "source": [
    "two_histograms(df_male_absent, df_female_absent)"
   ]
  },
  {
   "cell_type": "markdown",
   "metadata": {},
   "source": [
    "### ~~не~~ Применение критерия Стюдента:"
   ]
  },
  {
   "cell_type": "markdown",
   "metadata": {},
   "source": [
    "Для применения критерия Стюдента, необходимо проверить, являются ли распределение наших выборок нормальным.   \n",
    "Для этого я буду использовать тест Шапиро-Уилка для каждой из выборок, указав при этом уровень значимости $\\alpha$ =  0.05"
   ]
  },
  {
   "cell_type": "markdown",
   "metadata": {},
   "source": [
    "Гипотезы для теста Шапиро-уилка:\n",
    "+ $H_0$: Выборка распределена по нормальному закону.\n",
    "+ $H_a$: Закон распределения выборки не является нормальным."
   ]
  },
  {
   "cell_type": "code",
   "execution_count": 52,
   "metadata": {},
   "outputs": [
    {
     "name": "stdout",
     "output_type": "stream",
     "text": [
      "p-value:  7.513522248814297e-09\n",
      "p-значение меньше или равно 0.05, значит мы имеем право отвергнуть нулевую гипотезу и принять альтернативную\n"
     ]
    }
   ],
   "source": [
    "### Выполняем тест Шапиро-Уилка для первой выборки (Мужчины)\n",
    "shapiro_test_results = stats.shapiro(df_male_absent)\n",
    "\n",
    "evaluate_p_value(shapiro_test_results.pvalue)"
   ]
  },
  {
   "cell_type": "code",
   "execution_count": 53,
   "metadata": {},
   "outputs": [
    {
     "name": "stdout",
     "output_type": "stream",
     "text": [
      "p-value:  5.730509542445361e-07\n",
      "p-значение меньше или равно 0.05, значит мы имеем право отвергнуть нулевую гипотезу и принять альтернативную\n"
     ]
    }
   ],
   "source": [
    "### Выполняем тест Шапиро-Уилка для второй выборки (Женищны)\n",
    "shapiro_test_results = stats.shapiro(df_female_absent)\n",
    "\n",
    "evaluate_p_value(shapiro_test_results.pvalue)"
   ]
  },
  {
   "cell_type": "markdown",
   "metadata": {},
   "source": [
    "Наблюдения:   \n",
    "    Для обоих выборок мы отвергнули гипотезу о том, что данные в них распределены нормально, и приняли гипотезу о том, что   \n",
    "    данные в них не имеют нормального распределения.\n",
    "    Следовательно, применение t-test'а **не** будет статистически значимым."
   ]
  },
  {
   "cell_type": "markdown",
   "metadata": {},
   "source": [
    "Критерий Стюдента (t-test) не применим для данных выборок, так как распределенние данных выборок сильно разнятся от нормального.   \n",
    "Следовательно, простое сравнение средних значений не даст нам статистического заключения об их различии."
   ]
  },
  {
   "cell_type": "markdown",
   "metadata": {},
   "source": [
    "### Применение критерия Манна-Уитни:"
   ]
  },
  {
   "cell_type": "markdown",
   "metadata": {},
   "source": [
    "Получается, мы имеет две не связанные между собой выборки, в которых наблюдается серьезное отклонение от нормального распределения. Следовательно, рациональным будет попытка использовать тест Манна-Уитни."
   ]
  },
  {
   "cell_type": "code",
   "execution_count": 54,
   "metadata": {},
   "outputs": [
    {
     "name": "stdout",
     "output_type": "stream",
     "text": [
      "p-value:  0.9548173130538878\n",
      "p-значение больше 0.05, значит у нас нет оснований отвергать нулевую гипотезу\n"
     ]
    }
   ],
   "source": [
    "res = stats.mannwhitneyu(df_male_absent, df_female_absent)\n",
    "\n",
    "evaluate_p_value(res.pvalue)"
   ]
  },
  {
   "cell_type": "markdown",
   "metadata": {},
   "source": [
    "Наблюдения:   \n",
    "p-value получилось много больше, чем заданный изначально уровень значимости, поэтому у нас нет никаких статистических оснований отвергать   \n",
    "$H_0$-гипотезу о том, что различия между пропусками мужчин и женщшин - незначительное."
   ]
  },
  {
   "cell_type": "markdown",
   "metadata": {},
   "source": [
    "## Формирование вывода (1 задание):   \n",
    "***"
   ]
  },
  {
   "cell_type": "markdown",
   "metadata": {},
   "source": [
    "**Вывод:**   \n",
    " Определив гипотезы, и проведя тестирование статистической значимости гипотез, я выяснил, что у нас нет оснований отвергать нулевую гипотезу о том, что мужчины **не** пропускают по болезни более 2-х дней значительно больше, чем их коллеги-женщины. Это было подтверждено тестом Манна-Уитни.   \n",
    " На основании этого, мы не можем сказать, что мужчины пропускают по болезни больше 2-х дней значительно чаще, чем женщины."
   ]
  },
  {
   "cell_type": "markdown",
   "metadata": {},
   "source": [
    "## Статистическая проверка гипотез (2 задание):   \n",
    "***"
   ]
  },
  {
   "cell_type": "markdown",
   "metadata": {},
   "source": [
    "### Формулировка гипотез:   \n",
    "1. Null Hypothesis $H_0$ - Старшие сотрудники (> 35 лет) пропускают в течение года более 2 рабочих дней по болезни **реже, сопоставимо, или незначительно чаще** их более молодыx коллег (<= 35 лет).\n",
    "2. Alternate Hypothesis $H_a$ - Старшие сотрудники (> 35 лет) пропускают в течение года более 2 рабочих дней по болезни значительно **чаще**, чем их более молодые коллеги (<= 35 лет).   \n",
    "### Формальная формулировка гипотез:\n",
    "1. $H_0: \\mu_1 <= \\mu_2$   \n",
    "1. $H_a: \\mu_1 > \\mu_2$,    \n",
    "Где: $\\mu_1$ - математическое ожидание выборки из старших сотрудников, $\\mu_2$ - математическое ожидание выборки из молодых сотрудников\n",
    "### Определение уровня значимости:   \n",
    "Уровень значимости оставим прежним   \n",
    "$\\alpha$ = 0.05   "
   ]
  },
  {
   "cell_type": "code",
   "execution_count": 55,
   "metadata": {},
   "outputs": [
    {
     "name": "stdout",
     "output_type": "stream",
     "text": [
      "Размерность выборки младших работников:  115\n",
      "Размерность выборки старших работников:  36\n"
     ]
    }
   ],
   "source": [
    "### Убираем из совокупности тех, кто пропускал 2 и меньше дней, разбиваем совокупность на две выборки по признаку \"Возраст\", 35:\n",
    "df_more_than_two_days_absent = df[df[\"Количество больничных дней\"] > 2]\n",
    "df_younger = df_more_than_two_days_absent[df_more_than_two_days_absent[\"Возраст\"] > 35][\"Количество больничных дней\"]\n",
    "df_older = df_more_than_two_days_absent[df_more_than_two_days_absent[\"Возраст\"] <= 35][\"Количество больничных дней\"]\n",
    "\n",
    "df_younger.rename(\"Младшие\", inplace=True)\n",
    "df_older.rename(\"Старшие\", inplace=True)\n",
    "print(\"Размерность выборки младших работников: \", df_younger.shape[0])\n",
    "print(\"Размерность выборки старших работников: \", df_older.shape[0])"
   ]
  },
  {
   "cell_type": "markdown",
   "metadata": {},
   "source": [
    "### Строим гистограмму плотности распределений выборок"
   ]
  },
  {
   "cell_type": "code",
   "execution_count": 56,
   "metadata": {},
   "outputs": [
    {
     "data": {
      "image/png": "[encoded data removed]",
      "text/plain": [
       "<Figure size 640x480 with 1 Axes>"
      ]
     },
     "metadata": {},
     "output_type": "display_data"
    }
   ],
   "source": [
    "two_histograms(df_younger, df_older)"
   ]
  },
  {
   "cell_type": "markdown",
   "metadata": {},
   "source": [
    "### ~~снова не~~ Применение критерия Стюдента:"
   ]
  },
  {
   "cell_type": "markdown",
   "metadata": {},
   "source": [
    "Аналогично первому заданию, визуально распределения выборок отличны от нормального, и для проверки этого я выполню тест Шапиро-Уилка, показывающий, является ли статистически значимым или не значимым отклонение распределений от нормального."
   ]
  },
  {
   "cell_type": "markdown",
   "metadata": {},
   "source": [
    "Гипотезы для теста Шапиро-Уилка:\n",
    "+ $H_0$: Выборка распределена по нормальному закону.\n",
    "+ $H_a$: Закон распределения выборки не является нормальным."
   ]
  },
  {
   "cell_type": "code",
   "execution_count": 57,
   "metadata": {},
   "outputs": [
    {
     "name": "stdout",
     "output_type": "stream",
     "text": [
      "p-value:  2.490216088890662e-10\n",
      "p-значение меньше или равно 0.05, значит мы имеем право отвергнуть нулевую гипотезу и принять альтернативную\n"
     ]
    }
   ],
   "source": [
    "### Проводим тест Шапиро-Уилка для выборки из молодых сотрудников\n",
    "shapiro_test_results = stats.shapiro(df_younger)\n",
    "\n",
    "evaluate_p_value(shapiro_test_results.pvalue)"
   ]
  },
  {
   "cell_type": "code",
   "execution_count": 58,
   "metadata": {},
   "outputs": [
    {
     "name": "stdout",
     "output_type": "stream",
     "text": [
      "p-value:  5.530375710804947e-05\n",
      "p-значение меньше или равно 0.05, значит мы имеем право отвергнуть нулевую гипотезу и принять альтернативную\n"
     ]
    }
   ],
   "source": [
    "### Проводим тест Шапиро-Уилка для выборки из старших сотрудников\n",
    "shapiro_test_results = stats.shapiro(df_older)\n",
    "\n",
    "evaluate_p_value(shapiro_test_results.pvalue)"
   ]
  },
  {
   "cell_type": "markdown",
   "metadata": {},
   "source": [
    "Наблюдения:   \n",
    "Как и в случае выборок в первом задании, в данных обоих выборках p-значение низкое, и мы отвергаем гипотезу о том, что их распределения нормальные или близки к нормальным. Соответственно, применения t-test'а, аналогично первому заданию, будет статистически **не** значимо."
   ]
  },
  {
   "cell_type": "markdown",
   "metadata": {},
   "source": [
    "### Применение критерия Манна-Уитни:"
   ]
  },
  {
   "cell_type": "markdown",
   "metadata": {},
   "source": [
    "Так как мы имеем две несвязанные выборки, которые не распределены нормально, мы можем применить тест Манна-Уитни."
   ]
  },
  {
   "cell_type": "code",
   "execution_count": 59,
   "metadata": {},
   "outputs": [
    {
     "name": "stdout",
     "output_type": "stream",
     "text": [
      "p-value:  0.408297183958816\n",
      "p-значение больше 0.05, значит у нас нет оснований отвергать нулевую гипотезу\n"
     ]
    }
   ],
   "source": [
    "res = stats.mannwhitneyu(df_younger, df_older)\n",
    "\n",
    "evaluate_p_value(res.pvalue)"
   ]
  },
  {
   "cell_type": "markdown",
   "metadata": {},
   "source": [
    "Наблюдения:   \n",
    "p-значения в этот раз меньше, чем в первом задании, но все равно оно недостаточно низко, чтобы у нас появились основания отвергнуть нулевую гипотезу. "
   ]
  },
  {
   "cell_type": "markdown",
   "metadata": {},
   "source": [
    "## Формирование вывода (2 задание):   \n",
    "***"
   ]
  },
  {
   "cell_type": "markdown",
   "metadata": {},
   "source": [
    "**Вывод**:   \n",
    "Как и в случае с разделением выборок по полу, разделив совокупность на выборки по возрасту, проведя тестирование статистической значимости различий (тест Манна-Уитни, т.к. распределения в выборках отличны от нормального), мы получаем результат, который не дает нам оснований отвергать гипотезу о том, что более старшие сотрудники (возраст > 35 лет) **не** пропускают по болезни более 2-х дней значительно чаще, чем их молодые коллеги. Соответственно, мы не имеем оснований сказать, что Старшие сотрудники пропускают более 2-х дней по болезни значительно чаще, чем их молодые коллеги."
   ]
  }
 ],
 "metadata": {
  "kernelspec": {
   "display_name": "base",
   "language": "python",
   "name": "python3"
  },
  "language_info": {
   "codemirror_mode": {
    "name": "ipython",
    "version": 3
   },
   "file_extension": ".py",
   "mimetype": "text/x-python",
   "name": "python",
   "nbconvert_exporter": "python",
   "pygments_lexer": "ipython3",
   "version": "3.10.9"
  }
 },
 "nbformat": 4,
 "nbformat_minor": 2
}
